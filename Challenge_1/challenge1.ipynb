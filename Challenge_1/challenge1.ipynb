{
 "cells": [
  {
   "attachments": {},
   "cell_type": "markdown",
   "metadata": {},
   "source": [
    "# Challenge 1"
   ]
  },
  {
   "attachments": {},
   "cell_type": "markdown",
   "metadata": {},
   "source": [
    "## AWS CLI Configuration"
   ]
  },
  {
   "cell_type": "code",
   "execution_count": 1,
   "metadata": {},
   "outputs": [
    {
     "data": {
      "text/plain": [
       "True"
      ]
     },
     "execution_count": 1,
     "metadata": {},
     "output_type": "execute_result"
    }
   ],
   "source": [
    "from dotenv import load_dotenv\n",
    "from IPython.core.display import HTML\n",
    "from IPython.utils.text import SList\n",
    "import json\n",
    "import requests\n",
    "\n",
    "load_dotenv()"
   ]
  },
  {
   "attachments": {},
   "cell_type": "markdown",
   "metadata": {},
   "source": [
    "Use the [sample.env](./sample.env) file to create a `.env` file with the appropriate credentials"
   ]
  },
  {
   "cell_type": "code",
   "execution_count": 2,
   "metadata": {},
   "outputs": [
    {
     "name": "stdout",
     "output_type": "stream",
     "text": [
      "AWS_ACCESS_KEY_ID=<AccessKeyId>\n",
      "AWS_SECRET_ACCESS_KEY=<SecretAccessKey>\n",
      "AWS_SESSION_TOKEN=<SessionToken>"
     ]
    }
   ],
   "source": [
    "%more ./sample.env"
   ]
  },
  {
   "attachments": {},
   "cell_type": "markdown",
   "metadata": {},
   "source": [
    "## CloudFormation stack"
   ]
  },
  {
   "attachments": {},
   "cell_type": "markdown",
   "metadata": {},
   "source": [
    "### The CloudFormation Template"
   ]
  },
  {
   "cell_type": "code",
   "execution_count": 3,
   "metadata": {},
   "outputs": [
    {
     "name": "stdout",
     "output_type": "stream",
     "text": [
      "AWSTemplateFormatVersion: 2010-09-09\n",
      "Parameters:\n",
      "  AMIParameter:\n",
      "    Type: AWS::EC2::Image::Id\n",
      "    Default: ami-0b5eea76982371e91\n",
      "    Description: The operating system ID to use\n",
      "  SubnetIdParameter:\n",
      "    Type: AWS::EC2::Subnet::Id\n",
      "    Description: The public subnet ID inside the VPC to be used with the EC2 Instance\n",
      "  VpcIdParameter:\n",
      "    Type: AWS::EC2::VPC::Id\n",
      "    Description: Enter the VPC id to use in the Security Group and EC2 Instance\n",
      "Resources:\n",
      "  myWebAccessSecurityGroup:\n",
      "    Type: AWS::EC2::SecurityGroup\n",
      "    Properties:\n",
      "      GroupDescription: Udacity Challenge 1 security group\n",
      "      VpcId: !Ref VpcIdParameter\n",
      "      SecurityGroupIngress:\n",
      "        - IpProtocol: tcp\n",
      "          ToPort: 80\n",
      "          FromPort: 80\n",
      "          CidrIp: 0.0.0.0/0\n",
      "      SecurityGroupEgress:\n",
      "        - IpProtocol: -1\n",
      "          CidrIp: 0.0.0.0/0\n",
      "  myWebServerInstance:\n",
      "    Type: AWS::EC2::Instance\n",
      "    Properties:\n",
      "      ImageId: !Ref AMIParameter\n",
      "      InstanceType: t3.micro\n",
      "      NetworkInterfaces:\n",
      "        - DeviceIndex: \"0\"\n",
      "          AssociatePublicIpAddress: true\n",
      "          DeleteOnTermination: true\n",
      "          GroupSet:\n",
      "            - !Ref myWebAccessSecurityGroup\n",
      "          SubnetId: !Ref SubnetIdParameter\n",
      "      UserData:\n",
      "        Fn::Base64: !Sub |\n",
      "          #!/bin/bash\n",
      "          sudo yum update -y\n",
      "          sudo yum install -y httpd\n",
      "          sudo systemctl start httpd\n",
      "          sudo systemctl enable httpd\n",
      "Outputs:\n",
      "  PublicIPUrl:\n",
      "    Description: The public ip address to access the data\n",
      "    Value: !Join\n",
      "      - \"\"\n",
      "      - - \"http://\"\n",
      "        - !GetAtt\n",
      "          - myWebServerInstance\n",
      "          - PublicIp\n"
     ]
    }
   ],
   "source": [
    "%more challenge1.yml"
   ]
  },
  {
   "attachments": {},
   "cell_type": "markdown",
   "metadata": {},
   "source": [
    "### Validate The CloudFormation Template"
   ]
  },
  {
   "cell_type": "code",
   "execution_count": 4,
   "metadata": {},
   "outputs": [
    {
     "data": {
      "text/plain": [
       "['{',\n",
       " '    \"Parameters\": [',\n",
       " '        {',\n",
       " '            \"ParameterKey\": \"SubnetIdParameter\",',\n",
       " '            \"NoEcho\": false,',\n",
       " '            \"Description\": \"The public subnet ID inside the VPC to be used with the EC2 Instance\"',\n",
       " '        },',\n",
       " '        {',\n",
       " '            \"ParameterKey\": \"AMIParameter\",',\n",
       " '            \"DefaultValue\": \"ami-0b5eea76982371e91\",',\n",
       " '            \"NoEcho\": false,',\n",
       " '            \"Description\": \"The operating system ID to use\"',\n",
       " '        },',\n",
       " '        {',\n",
       " '            \"ParameterKey\": \"VpcIdParameter\",',\n",
       " '            \"NoEcho\": false,',\n",
       " '            \"Description\": \"Enter the VPC id to use in the Security Group and EC2 Instance\"',\n",
       " '        }',\n",
       " '    ]',\n",
       " '}']"
      ]
     },
     "execution_count": 4,
     "metadata": {},
     "output_type": "execute_result"
    }
   ],
   "source": [
    "%%!\n",
    "export AWS_ACCESS_KEY_ID=$AWS_ACCESS_KEY_ID\n",
    "export AWS_SECRET_ACCESS_KEY=$AWS_SECRET_ACCESS_KEY\n",
    "export AWS_SESSION_TOKEN=$AWS_SESSION_TOKEN\n",
    "aws cloudformation validate-template \\\n",
    "  --template-body file://challenge1.yml"
   ]
  },
  {
   "attachments": {},
   "cell_type": "markdown",
   "metadata": {},
   "source": [
    "### Create the CloudFormation Stack"
   ]
  },
  {
   "attachments": {},
   "cell_type": "markdown",
   "metadata": {},
   "source": [
    "#### Required Parameters"
   ]
  },
  {
   "attachments": {},
   "cell_type": "markdown",
   "metadata": {},
   "source": [
    "##### VPC ID"
   ]
  },
  {
   "cell_type": "code",
   "execution_count": 5,
   "metadata": {},
   "outputs": [
    {
     "data": {
      "text/plain": [
       "['{',\n",
       " '    \"Vpcs\": [',\n",
       " '        {',\n",
       " '            \"CidrBlock\": \"172.31.0.0/16\",',\n",
       " '            \"DhcpOptionsId\": \"dopt-0c30672d3336ade62\",',\n",
       " '            \"State\": \"available\",',\n",
       " '            \"VpcId\": \"vpc-083d17b11dfa61ca1\",',\n",
       " '            \"OwnerId\": \"207979166659\",',\n",
       " '            \"InstanceTenancy\": \"default\",',\n",
       " '            \"CidrBlockAssociationSet\": [',\n",
       " '                {',\n",
       " '                    \"AssociationId\": \"vpc-cidr-assoc-0b2de702337a3c4bc\",',\n",
       " '                    \"CidrBlock\": \"172.31.0.0/16\",',\n",
       " '                    \"CidrBlockState\": {',\n",
       " '                        \"State\": \"associated\"',\n",
       " '                    }',\n",
       " '                }',\n",
       " '            ],',\n",
       " '            \"IsDefault\": true',\n",
       " '        }',\n",
       " '    ]',\n",
       " '}']"
      ]
     },
     "execution_count": 5,
     "metadata": {},
     "output_type": "execute_result"
    }
   ],
   "source": [
    "vpcs: SList = !export AWS_ACCESS_KEY_ID=$AWS_ACCESS_KEY_ID; \\\n",
    "  export AWS_SECRET_ACCESS_KEY=$AWS_SECRET_ACCESS_KEY; \\\n",
    "  export AWS_SESSION_TOKEN=$AWS_SESSION_TOKEN; \\\n",
    "  aws ec2 describe-vpcs\n",
    "vpcs"
   ]
  },
  {
   "cell_type": "code",
   "execution_count": 6,
   "metadata": {},
   "outputs": [
    {
     "data": {
      "text/plain": [
       "'vpc-083d17b11dfa61ca1'"
      ]
     },
     "execution_count": 6,
     "metadata": {},
     "output_type": "execute_result"
    }
   ],
   "source": [
    "vpcs_dict: dict = json.loads(vpcs.nlstr)\n",
    "vpc_id: str = vpcs_dict[\"Vpcs\"][0][\"VpcId\"]\n",
    "vpc_id"
   ]
  },
  {
   "attachments": {},
   "cell_type": "markdown",
   "metadata": {},
   "source": [
    "##### Subnet ID"
   ]
  },
  {
   "cell_type": "code",
   "execution_count": 7,
   "metadata": {},
   "outputs": [
    {
     "data": {
      "text/plain": [
       "['{',\n",
       " '    \"Subnets\": [',\n",
       " '        {',\n",
       " '            \"AvailabilityZone\": \"us-east-1e\",',\n",
       " '            \"AvailabilityZoneId\": \"use1-az3\",',\n",
       " '            \"AvailableIpAddressCount\": 4091,',\n",
       " '            \"CidrBlock\": \"172.31.48.0/20\",',\n",
       " '            \"DefaultForAz\": true,',\n",
       " '            \"MapPublicIpOnLaunch\": true,',\n",
       " '            \"MapCustomerOwnedIpOnLaunch\": false,',\n",
       " '            \"State\": \"available\",',\n",
       " '            \"SubnetId\": \"subnet-028fe24cb9a435642\",',\n",
       " '            \"VpcId\": \"vpc-083d17b11dfa61ca1\",',\n",
       " '            \"OwnerId\": \"207979166659\",',\n",
       " '            \"AssignIpv6AddressOnCreation\": false,',\n",
       " '            \"Ipv6CidrBlockAssociationSet\": [],',\n",
       " '            \"SubnetArn\": \"arn:aws:ec2:us-east-1:207979166659:subnet/subnet-028fe24cb9a435642\",',\n",
       " '            \"EnableDns64\": false,',\n",
       " '            \"Ipv6Native\": false,',\n",
       " '            \"PrivateDnsNameOptionsOnLaunch\": {',\n",
       " '                \"HostnameType\": \"ip-name\",',\n",
       " '                \"EnableResourceNameDnsARecord\": false,',\n",
       " '                \"EnableResourceNameDnsAAAARecord\": false',\n",
       " '            }',\n",
       " '        },',\n",
       " '        {',\n",
       " '            \"AvailabilityZone\": \"us-east-1a\",',\n",
       " '            \"AvailabilityZoneId\": \"use1-az1\",',\n",
       " '            \"AvailableIpAddressCount\": 4091,',\n",
       " '            \"CidrBlock\": \"172.31.0.0/20\",',\n",
       " '            \"DefaultForAz\": true,',\n",
       " '            \"MapPublicIpOnLaunch\": true,',\n",
       " '            \"MapCustomerOwnedIpOnLaunch\": false,',\n",
       " '            \"State\": \"available\",',\n",
       " '            \"SubnetId\": \"subnet-0f2528112f1779689\",',\n",
       " '            \"VpcId\": \"vpc-083d17b11dfa61ca1\",',\n",
       " '            \"OwnerId\": \"207979166659\",',\n",
       " '            \"AssignIpv6AddressOnCreation\": false,',\n",
       " '            \"Ipv6CidrBlockAssociationSet\": [],',\n",
       " '            \"SubnetArn\": \"arn:aws:ec2:us-east-1:207979166659:subnet/subnet-0f2528112f1779689\",',\n",
       " '            \"EnableDns64\": false,',\n",
       " '            \"Ipv6Native\": false,',\n",
       " '            \"PrivateDnsNameOptionsOnLaunch\": {',\n",
       " '                \"HostnameType\": \"ip-name\",',\n",
       " '                \"EnableResourceNameDnsARecord\": false,',\n",
       " '                \"EnableResourceNameDnsAAAARecord\": false',\n",
       " '            }',\n",
       " '        },',\n",
       " '        {',\n",
       " '            \"AvailabilityZone\": \"us-east-1c\",',\n",
       " '            \"AvailabilityZoneId\": \"use1-az4\",',\n",
       " '            \"AvailableIpAddressCount\": 4091,',\n",
       " '            \"CidrBlock\": \"172.31.16.0/20\",',\n",
       " '            \"DefaultForAz\": true,',\n",
       " '            \"MapPublicIpOnLaunch\": true,',\n",
       " '            \"MapCustomerOwnedIpOnLaunch\": false,',\n",
       " '            \"State\": \"available\",',\n",
       " '            \"SubnetId\": \"subnet-085ba17fcbf8d1de5\",',\n",
       " '            \"VpcId\": \"vpc-083d17b11dfa61ca1\",',\n",
       " '            \"OwnerId\": \"207979166659\",',\n",
       " '            \"AssignIpv6AddressOnCreation\": false,',\n",
       " '            \"Ipv6CidrBlockAssociationSet\": [],',\n",
       " '            \"SubnetArn\": \"arn:aws:ec2:us-east-1:207979166659:subnet/subnet-085ba17fcbf8d1de5\",',\n",
       " '            \"EnableDns64\": false,',\n",
       " '            \"Ipv6Native\": false,',\n",
       " '            \"PrivateDnsNameOptionsOnLaunch\": {',\n",
       " '                \"HostnameType\": \"ip-name\",',\n",
       " '                \"EnableResourceNameDnsARecord\": false,',\n",
       " '                \"EnableResourceNameDnsAAAARecord\": false',\n",
       " '            }',\n",
       " '        },',\n",
       " '        {',\n",
       " '            \"AvailabilityZone\": \"us-east-1b\",',\n",
       " '            \"AvailabilityZoneId\": \"use1-az2\",',\n",
       " '            \"AvailableIpAddressCount\": 4090,',\n",
       " '            \"CidrBlock\": \"172.31.80.0/20\",',\n",
       " '            \"DefaultForAz\": true,',\n",
       " '            \"MapPublicIpOnLaunch\": true,',\n",
       " '            \"MapCustomerOwnedIpOnLaunch\": false,',\n",
       " '            \"State\": \"available\",',\n",
       " '            \"SubnetId\": \"subnet-0f96f60e37b461a05\",',\n",
       " '            \"VpcId\": \"vpc-083d17b11dfa61ca1\",',\n",
       " '            \"OwnerId\": \"207979166659\",',\n",
       " '            \"AssignIpv6AddressOnCreation\": false,',\n",
       " '            \"Ipv6CidrBlockAssociationSet\": [],',\n",
       " '            \"SubnetArn\": \"arn:aws:ec2:us-east-1:207979166659:subnet/subnet-0f96f60e37b461a05\",',\n",
       " '            \"EnableDns64\": false,',\n",
       " '            \"Ipv6Native\": false,',\n",
       " '            \"PrivateDnsNameOptionsOnLaunch\": {',\n",
       " '                \"HostnameType\": \"ip-name\",',\n",
       " '                \"EnableResourceNameDnsARecord\": false,',\n",
       " '                \"EnableResourceNameDnsAAAARecord\": false',\n",
       " '            }',\n",
       " '        },',\n",
       " '        {',\n",
       " '            \"AvailabilityZone\": \"us-east-1d\",',\n",
       " '            \"AvailabilityZoneId\": \"use1-az6\",',\n",
       " '            \"AvailableIpAddressCount\": 4091,',\n",
       " '            \"CidrBlock\": \"172.31.32.0/20\",',\n",
       " '            \"DefaultForAz\": true,',\n",
       " '            \"MapPublicIpOnLaunch\": true,',\n",
       " '            \"MapCustomerOwnedIpOnLaunch\": false,',\n",
       " '            \"State\": \"available\",',\n",
       " '            \"SubnetId\": \"subnet-0a54e3a4d0a80b3bf\",',\n",
       " '            \"VpcId\": \"vpc-083d17b11dfa61ca1\",',\n",
       " '            \"OwnerId\": \"207979166659\",',\n",
       " '            \"AssignIpv6AddressOnCreation\": false,',\n",
       " '            \"Ipv6CidrBlockAssociationSet\": [],',\n",
       " '            \"SubnetArn\": \"arn:aws:ec2:us-east-1:207979166659:subnet/subnet-0a54e3a4d0a80b3bf\",',\n",
       " '            \"EnableDns64\": false,',\n",
       " '            \"Ipv6Native\": false,',\n",
       " '            \"PrivateDnsNameOptionsOnLaunch\": {',\n",
       " '                \"HostnameType\": \"ip-name\",',\n",
       " '                \"EnableResourceNameDnsARecord\": false,',\n",
       " '                \"EnableResourceNameDnsAAAARecord\": false',\n",
       " '            }',\n",
       " '        },',\n",
       " '        {',\n",
       " '            \"AvailabilityZone\": \"us-east-1f\",',\n",
       " '            \"AvailabilityZoneId\": \"use1-az5\",',\n",
       " '            \"AvailableIpAddressCount\": 4091,',\n",
       " '            \"CidrBlock\": \"172.31.64.0/20\",',\n",
       " '            \"DefaultForAz\": true,',\n",
       " '            \"MapPublicIpOnLaunch\": true,',\n",
       " '            \"MapCustomerOwnedIpOnLaunch\": false,',\n",
       " '            \"State\": \"available\",',\n",
       " '            \"SubnetId\": \"subnet-0d3c7e90d3d0aa30e\",',\n",
       " '            \"VpcId\": \"vpc-083d17b11dfa61ca1\",',\n",
       " '            \"OwnerId\": \"207979166659\",',\n",
       " '            \"AssignIpv6AddressOnCreation\": false,',\n",
       " '            \"Ipv6CidrBlockAssociationSet\": [],',\n",
       " '            \"SubnetArn\": \"arn:aws:ec2:us-east-1:207979166659:subnet/subnet-0d3c7e90d3d0aa30e\",',\n",
       " '            \"EnableDns64\": false,',\n",
       " '            \"Ipv6Native\": false,',\n",
       " '            \"PrivateDnsNameOptionsOnLaunch\": {',\n",
       " '                \"HostnameType\": \"ip-name\",',\n",
       " '                \"EnableResourceNameDnsARecord\": false,',\n",
       " '                \"EnableResourceNameDnsAAAARecord\": false',\n",
       " '            }',\n",
       " '        }',\n",
       " '    ]',\n",
       " '}']"
      ]
     },
     "execution_count": 7,
     "metadata": {},
     "output_type": "execute_result"
    }
   ],
   "source": [
    "subnet_filter: str = f\"Name=vpc-id,Values={vpc_id}\"\n",
    "subnets: SList = !export AWS_ACCESS_KEY_ID=$AWS_ACCESS_KEY_ID; \\\n",
    "  export AWS_SECRET_ACCESS_KEY=$AWS_SECRET_ACCESS_KEY; \\\n",
    "  export AWS_SESSION_TOKEN=$AWS_SESSION_TOKEN; \\\n",
    "  aws ec2 describe-subnets \\\n",
    "    --filters $subnet_filter\n",
    "subnets"
   ]
  },
  {
   "cell_type": "code",
   "execution_count": 8,
   "metadata": {},
   "outputs": [
    {
     "data": {
      "text/plain": [
       "'subnet-0f2528112f1779689'"
      ]
     },
     "execution_count": 8,
     "metadata": {},
     "output_type": "execute_result"
    }
   ],
   "source": [
    "subnets_dict: dict = json.loads(subnets.nlstr)\n",
    "\n",
    "for subnet in subnets_dict[\"Subnets\"]:\n",
    "  # Avoid 0 (us-east-1e since it doesn't have t3.micro)\n",
    "  if subnet[\"AvailabilityZone\"] != \"us-east-1e\":\n",
    "    subnet_id: str = subnet[\"SubnetId\"]\n",
    "    break\n",
    "subnet_id"
   ]
  },
  {
   "attachments": {},
   "cell_type": "markdown",
   "metadata": {},
   "source": [
    "#### Create Stack"
   ]
  },
  {
   "cell_type": "code",
   "execution_count": 9,
   "metadata": {},
   "outputs": [
    {
     "name": "stdout",
     "output_type": "stream",
     "text": [
      "{\n",
      "    \"StackId\": \"arn:aws:cloudformation:us-east-1:207979166659:stack/udacitychallengestack/60e622a0-8ef5-11ed-8871-0eeac476d8ed\"\n",
      "}\n"
     ]
    }
   ],
   "source": [
    "create_stack_command: str = f\"\"\"\n",
    "  export AWS_ACCESS_KEY_ID=$AWS_ACCESS_KEY_ID;\\\n",
    "  export AWS_SECRET_ACCESS_KEY=$AWS_SECRET_ACCESS_KEY;\\\n",
    "  export AWS_SESSION_TOKEN=$AWS_SESSION_TOKEN;\\\n",
    "  aws cloudformation create-stack --stack-name udacitychallengestack \\\n",
    "    --template-body file://challenge1.yml \\\n",
    "    --parameters ParameterKey=SubnetIdParameter,ParameterValue={subnet_id} ParameterKey=VpcIdParameter,ParameterValue={vpc_id}\n",
    "  \"\"\"\n",
    "!{create_stack_command}"
   ]
  },
  {
   "attachments": {},
   "cell_type": "markdown",
   "metadata": {},
   "source": [
    "### View the CloudFormation Stack"
   ]
  },
  {
   "attachments": {},
   "cell_type": "markdown",
   "metadata": {},
   "source": [
    "#### Describe the CloudFormation Stack"
   ]
  },
  {
   "cell_type": "code",
   "execution_count": 10,
   "metadata": {},
   "outputs": [
    {
     "data": {
      "text/plain": [
       "['{',\n",
       " '    \"Stacks\": [',\n",
       " '        {',\n",
       " '            \"StackId\": \"arn:aws:cloudformation:us-east-1:207979166659:stack/udacitychallengestack/60e622a0-8ef5-11ed-8871-0eeac476d8ed\",',\n",
       " '            \"StackName\": \"udacitychallengestack\",',\n",
       " '            \"Parameters\": [',\n",
       " '                {',\n",
       " '                    \"ParameterKey\": \"SubnetIdParameter\",',\n",
       " '                    \"ParameterValue\": \"subnet-0f2528112f1779689\"',\n",
       " '                },',\n",
       " '                {',\n",
       " '                    \"ParameterKey\": \"AMIParameter\",',\n",
       " '                    \"ParameterValue\": \"ami-0b5eea76982371e91\"',\n",
       " '                },',\n",
       " '                {',\n",
       " '                    \"ParameterKey\": \"VpcIdParameter\",',\n",
       " '                    \"ParameterValue\": \"vpc-083d17b11dfa61ca1\"',\n",
       " '                }',\n",
       " '            ],',\n",
       " '            \"CreationTime\": \"2023-01-08T01:40:06.389000+00:00\",',\n",
       " '            \"RollbackConfiguration\": {},',\n",
       " '            \"StackStatus\": \"CREATE_COMPLETE\",',\n",
       " '            \"DisableRollback\": false,',\n",
       " '            \"NotificationARNs\": [],',\n",
       " '            \"Outputs\": [',\n",
       " '                {',\n",
       " '                    \"OutputKey\": \"PublicIPUrl\",',\n",
       " '                    \"OutputValue\": \"http://35.172.240.26\",',\n",
       " '                    \"Description\": \"The public ip address to access the data\"',\n",
       " '                }',\n",
       " '            ],',\n",
       " '            \"Tags\": [],',\n",
       " '            \"EnableTerminationProtection\": false,',\n",
       " '            \"DriftInformation\": {',\n",
       " '                \"StackDriftStatus\": \"NOT_CHECKED\"',\n",
       " '            }',\n",
       " '        }',\n",
       " '    ]',\n",
       " '}']"
      ]
     },
     "execution_count": 10,
     "metadata": {},
     "output_type": "execute_result"
    }
   ],
   "source": [
    "stacks: SList = !export AWS_ACCESS_KEY_ID=$AWS_ACCESS_KEY_ID; \\\n",
    "  export AWS_SECRET_ACCESS_KEY=$AWS_SECRET_ACCESS_KEY; \\\n",
    "  export AWS_SESSION_TOKEN=$AWS_SESSION_TOKEN; \\\n",
    "  aws cloudformation describe-stacks --stack-name udacitychallengestack\n",
    "stacks"
   ]
  },
  {
   "attachments": {},
   "cell_type": "markdown",
   "metadata": {},
   "source": [
    "#### Get the PublicUrl"
   ]
  },
  {
   "cell_type": "code",
   "execution_count": 11,
   "metadata": {},
   "outputs": [
    {
     "data": {
      "text/plain": [
       "[{'OutputKey': 'PublicIPUrl',\n",
       "  'OutputValue': 'http://35.172.240.26',\n",
       "  'Description': 'The public ip address to access the data'}]"
      ]
     },
     "execution_count": 11,
     "metadata": {},
     "output_type": "execute_result"
    }
   ],
   "source": [
    "stacks_dict: dict = json.loads(stacks.nlstr)\n",
    "outputs: list = stacks_dict[\"Stacks\"][0][\"Outputs\"]\n",
    "outputs"
   ]
  },
  {
   "cell_type": "code",
   "execution_count": 12,
   "metadata": {},
   "outputs": [
    {
     "data": {
      "text/plain": [
       "'http://35.172.240.26'"
      ]
     },
     "execution_count": 12,
     "metadata": {},
     "output_type": "execute_result"
    }
   ],
   "source": [
    "public_url: str = outputs[0][\"OutputValue\"]\n",
    "public_url"
   ]
  },
  {
   "attachments": {},
   "cell_type": "markdown",
   "metadata": {},
   "source": [
    "#### Navigate To The Public URl"
   ]
  },
  {
   "cell_type": "code",
   "execution_count": 13,
   "metadata": {},
   "outputs": [
    {
     "data": {
      "text/html": [
       "<!DOCTYPE html PUBLIC \"-//W3C//DTD XHTML 1.1//EN\" \"http://www.w3.org/TR/xhtml11/DTD/xhtml11.dtd\">\n",
       "\n",
       "<html xmlns=\"http://www.w3.org/1999/xhtml\" xml:lang=\"en\">\n",
       "\t<head>\n",
       "\t\t<title>Test Page for the Apache HTTP Server</title>\n",
       "\t\t<meta http-equiv=\"Content-Type\" content=\"text/html; charset=UTF-8\" />\n",
       "\t\t<style type=\"text/css\">\n",
       "\t\t\t/*<![CDATA[*/\n",
       "\t\t\tbody {\n",
       "\t\t\t\tbackground-color: #fff;\n",
       "\t\t\t\tcolor: #000;\n",
       "\t\t\t\tfont-size: 0.9em;\n",
       "\t\t\t\tfont-family: sans-serif,helvetica;\n",
       "\t\t\t\tmargin: 0;\n",
       "\t\t\t\tpadding: 0;\n",
       "\t\t\t}\n",
       "\t\t\t:link {\n",
       "\t\t\t\tcolor: #c00;\n",
       "\t\t\t}\n",
       "\t\t\t:visited {\n",
       "\t\t\t\tcolor: #c00;\n",
       "\t\t\t}\n",
       "\t\t\ta:hover {\n",
       "\t\t\t\tcolor: #f50;\n",
       "\t\t\t}\n",
       "\t\t\th1 {\n",
       "\t\t\t\ttext-align: center;\n",
       "\t\t\t\tmargin: 0;\n",
       "\t\t\t\tpadding: 0.6em 2em 0.4em;\n",
       "\t\t\t\tbackground-color: #900;\n",
       "\t\t\t\tcolor: #fff;\n",
       "\t\t\t\tfont-weight: normal;\n",
       "\t\t\t\tfont-size: 1.75em;\n",
       "\t\t\t\tborder-bottom: 2px solid #000;\n",
       "\t\t\t}\n",
       "\t\t\th1 strong {\n",
       "\t\t\t\tfont-weight: bold;\n",
       "\t\t\t}\n",
       "\t\t\th2 {\n",
       "\t\t\t\tfont-size: 1.1em;\n",
       "\t\t\t\tfont-weight: bold;\n",
       "\t\t\t}\n",
       "\t\t\thr {\n",
       "\t\t\t\tdisplay: none;\n",
       "\t\t\t}\n",
       "\t\t\t.content {\n",
       "\t\t\t\tpadding: 1em 5em;\n",
       "\t\t\t}\n",
       "\t\t\t.content-columns {\n",
       "\t\t\t\t/* Setting relative positioning allows for \n",
       "\t\t\t\tabsolute positioning for sub-classes */\n",
       "\t\t\t\tposition: relative;\n",
       "\t\t\t\tpadding-top: 1em;\n",
       "\t\t\t}\n",
       "\t\t\t.content-column-left {\n",
       "\t\t\t\t/* Value for IE/Win; will be overwritten for other browsers */\n",
       "\t\t\t\twidth: 47%;\n",
       "\t\t\t\tpadding-right: 3%;\n",
       "\t\t\t\tfloat: left;\n",
       "\t\t\t\tpadding-bottom: 2em;\n",
       "\t\t\t}\n",
       "\t\t\t.content-column-left hr {\n",
       "\t\t\t\tdisplay: none;\n",
       "\t\t\t}\n",
       "\t\t\t.content-column-right {\n",
       "\t\t\t\t/* Values for IE/Win; will be overwritten for other browsers */\n",
       "\t\t\t\twidth: 47%;\n",
       "\t\t\t\tpadding-left: 3%;\n",
       "\t\t\t\tfloat: left;\n",
       "\t\t\t\tpadding-bottom: 2em;\n",
       "\t\t\t}\n",
       "\t\t\t.content-columns>.content-column-left, .content-columns>.content-column-right {\n",
       "\t\t\t\t/* Non-IE/Win */\n",
       "\t\t\t}\n",
       "\t\t\timg {\n",
       "\t\t\t\tborder: 2px solid #fff;\n",
       "\t\t\t\tpadding: 2px;\n",
       "\t\t\t\tmargin: 2px;\n",
       "\t\t\t}\n",
       "\t\t\ta:hover img {\n",
       "\t\t\t\tborder: 2px solid #f50;\n",
       "\t\t\t}\n",
       "\t\t\t/*]]>*/\n",
       "\t\t</style>\n",
       "\t</head>\n",
       "\n",
       "\t<body>\n",
       "\t\t<h1>Test Page</h1>\n",
       "\n",
       "\t\t<div class=\"content\">\n",
       "\t\t\t<div class=\"content-middle\">\n",
       "\t\t\t\t<p>This page is used to test the proper operation of the Apache HTTP server after it has been installed. If you can read this page, it means that the Apache HTTP server installed at this site is working properly.</p>\n",
       "\t\t\t</div>\n",
       "\t\t\t<hr />\n",
       "\n",
       "\t\t\t<div class=\"content-columns\">\n",
       "\t\t\t\t<div class=\"content-column-left\">\n",
       "\t\t\t\t\t<h2>If you are a member of the general public:</h2>\n",
       "\n",
       "\t\t\t\t\t<p>The fact that you are seeing this page indicates that the website you just visited is either experiencing problems, or is undergoing routine maintenance.</p>\n",
       "\n",
       "\t\t\t\t\t<p>If you would like to let the administrators of this website know that you've seen this page instead of the page you expected, you should send them e-mail. In general, mail sent to the name \"webmaster\" and directed to the website's domain should reach the appropriate person.</p>\n",
       "\n",
       "\t\t\t\t\t<p>For example, if you experienced problems while visiting www.example.com, you should send e-mail to \"webmaster@example.com\".</p>\n",
       "\n",
       "\t\t\t\t\t<hr />\n",
       "\t\t\t\t</div>\n",
       "\n",
       "\t\t\t\t<div class=\"content-column-right\">\n",
       "\t\t\t\t\t<h2>If you are the website administrator:</h2>\n",
       "\n",
       "\t\t\t\t\t<p>You may now add content to the directory <tt>/var/www/html/</tt>. Note that until you do so, people visiting your website will see this page, and not your content. To prevent this page from ever being used, follow the instructions in the file <tt>/etc/httpd/conf.d/welcome.conf</tt>.</p>\n",
       "\n",
       "                                        <p>You are free to use the image below on web sites powered by the Apache HTTP Server:</p>\n",
       "\t\t\t\t\t\n",
       "                                        <p align=\"center\"><a href=\"http://httpd.apache.org/\"><img src=\"/icons/apache_pb2.gif\" alt=\"[ Powered by Apache ]\"/></a></p>\n",
       "\n",
       "\t\t\t\t</div>\n",
       "\t\t\t</div>\n",
       "\t\t</div>\n",
       "\t</body>\n",
       "</html>\n"
      ],
      "text/plain": [
       "<IPython.core.display.HTML object>"
      ]
     },
     "metadata": {},
     "output_type": "display_data"
    }
   ],
   "source": [
    "display(\n",
    "  HTML(\n",
    "    requests.get(public_url).text\n",
    "  )\n",
    ")"
   ]
  },
  {
   "attachments": {},
   "cell_type": "markdown",
   "metadata": {},
   "source": [
    "## Clean up"
   ]
  },
  {
   "cell_type": "code",
   "execution_count": 15,
   "metadata": {},
   "outputs": [
    {
     "data": {
      "text/plain": [
       "[]"
      ]
     },
     "execution_count": 15,
     "metadata": {},
     "output_type": "execute_result"
    }
   ],
   "source": [
    "%%!\n",
    "export AWS_ACCESS_KEY_ID=$AWS_ACCESS_KEY_ID\n",
    "export AWS_SECRET_ACCESS_KEY=$AWS_SECRET_ACCESS_KEY\n",
    "export AWS_SESSION_TOKEN=$AWS_SESSION_TOKEN\n",
    "aws cloudformation delete-stack --stack-name udacitychallengestack"
   ]
  }
 ],
 "metadata": {
  "kernelspec": {
   "display_name": ".venv",
   "language": "python",
   "name": "python3"
  },
  "language_info": {
   "codemirror_mode": {
    "name": "ipython",
    "version": 3
   },
   "file_extension": ".py",
   "mimetype": "text/x-python",
   "name": "python",
   "nbconvert_exporter": "python",
   "pygments_lexer": "ipython3",
   "version": "3.11.0"
  },
  "orig_nbformat": 4,
  "vscode": {
   "interpreter": {
    "hash": "e6b45be557cdb5d49c2f9b402b6e6d78287dc9cbf4962f08e610423f55c52aaf"
   }
  }
 },
 "nbformat": 4,
 "nbformat_minor": 2
}
